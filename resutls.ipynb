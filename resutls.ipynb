{
 "cells": [
  {
   "cell_type": "code",
   "execution_count": 1,
   "metadata": {},
   "outputs": [],
   "source": [
    "import numpy as np\n",
    "import pandas as pd\n"
   ]
  },
  {
   "cell_type": "code",
   "execution_count": 55,
   "metadata": {},
   "outputs": [],
   "source": [
    "df = pd.read_csv('returns.csv', header=None)\n"
   ]
  },
  {
   "cell_type": "code",
   "execution_count": 56,
   "metadata": {},
   "outputs": [],
   "source": [
    "# ai\n",
    "def sample_cov(df):\n",
    "    cov = np.array(df - df.mean(axis=0))\n",
    "    total = np.zeros((cov.shape[1], cov.shape[1]))\n",
    "    for r in range(cov.shape[0]):\n",
    "        total += cov[[r], :].T @ cov[[r], :]\n",
    "    return total/cov.shape[0]\n",
    "\n",
    "\n",
    "sample_covariance = sample_cov(df)\n",
    "np.savetxt('sample_covariance.csv', sample_covariance, delimiter=',')\n"
   ]
  },
  {
   "cell_type": "code",
   "execution_count": 221,
   "metadata": {},
   "outputs": [],
   "source": [
    "def run(S, lam=0.00001, iterations = 100, stopping_thres = 1e-12):\n",
    "    T, N = df.shape\n",
    "    J = np.eye(N)\n",
    "    def assign(i,j, new):\n",
    "        J[i][i] = (new)[0][0]\n",
    "        J[i][j] = (new)[0][1]\n",
    "        J[j][i] = (new)[1][0]\n",
    "        J[j][j] = (new)[1][1]\n",
    "    def obj():\n",
    "        return np.log(np.linalg.det(J))-np.trace(J @ S) - lam * np.sum(np.abs(J - np.diag(np.diag(J))))\n",
    "        # return np.log(np.linalg.det(J))-np.trace(J @ S) - lam * (sum(sum(abs(J))) - np.trace(abs(J)))\n",
    "    prev_obj = obj()\n",
    "    for _ in range(iterations):\n",
    "        for i in range(N):\n",
    "            for j in range(i+1,N):\n",
    "                Jbb = J[[a for a in range(N) if not a in [i,j]], :][:, [a for a in range(N) if not a in [i,j]]]\n",
    "                Jab = J[[i, j], :][:, [a for a in range(N) if not a in [i,j]]]\n",
    "                Jba = J[[a for a in range(N) if not a in [i,j]], :][:, [i, j]]\n",
    "                L = Jab@np.linalg.inv(Jbb)@Jba\n",
    "                Saa = S[[i, j], :][:, [i, j]]\n",
    "                Svv = S[j][j]\n",
    "                Suu = S[i][i]\n",
    "                ms = []\n",
    "                try: \n",
    "                    m1 = np.linalg.inv(Saa+lam*np.array([[0, 1], [1, 0]]))\n",
    "                except: \n",
    "                    pass\n",
    "                else:\n",
    "                    if np.all(np.linalg.eigvals(m1) > 0):\n",
    "                        ms.append(m1)\n",
    "                try: \n",
    "                    m2 = np.linalg.inv(Saa+lam*np.array([[0, -1], [-1, 0]]))\n",
    "                except: \n",
    "                    pass\n",
    "                else:\n",
    "                    if np.all(np.linalg.eigvals(m2) > 0):\n",
    "                        ms.append(m2)\n",
    "                try: \n",
    "                    m3 = np.array([[(1+np.sqrt(1+4*Svv*Suu*L[0][1]**2))/(2*Suu), -L[0][1]],\n",
    "                                [-L[1][0], (1+np.sqrt(1+4*Svv*Suu*L[0][1]**2))/(2*Svv)]])\n",
    "                except: \n",
    "                    pass\n",
    "                else:\n",
    "                    if np.all(np.linalg.eigvals(m3) > 0) and np.any(np.isnan(m3)):\n",
    "                        ms.append(m3)\n",
    "                curr_obj = obj()\n",
    "                for m in ms:\n",
    "                    prev_Jaa = J[[i,j],:][:,[i,j]]\n",
    "                    assign(i, j, m+L)\n",
    "                    new_obj = obj()\n",
    "                    if new_obj>curr_obj:\n",
    "                        curr_obj = new_obj\n",
    "                    else:\n",
    "                        assign(i, j, prev_Jaa)\n",
    "        # if obj()-prev_obj < stopping_thres:\n",
    "            # break\n",
    "        if curr_obj-prev_obj > stopping_thres:\n",
    "            prev_obj = curr_obj\n",
    "            print(curr_obj)\n",
    "        else:\n",
    "            break\n",
    "    print(np.count_nonzero(J))\n",
    "    return J\n"
   ]
  },
  {
   "cell_type": "code",
   "execution_count": 222,
   "metadata": {},
   "outputs": [
    {
     "name": "stdout",
     "output_type": "stream",
     "text": [
      "384.9659145662428\n",
      "2500\n"
     ]
    }
   ],
   "source": [
    "J_test = run(sample_covariance, 0, 1)"
   ]
  },
  {
   "cell_type": "code",
   "execution_count": 223,
   "metadata": {},
   "outputs": [
    {
     "name": "stdout",
     "output_type": "stream",
     "text": [
      "362.3984234065307\n",
      "363.6768462728107\n",
      "363.90236730601015\n",
      "364.0119481847503\n",
      "364.11304847565094\n",
      "364.1348322452991\n",
      "364.1454160628752\n",
      "364.15240374721833\n",
      "364.15783590005555\n",
      "364.16038677416384\n",
      "364.1617593533045\n",
      "364.1620887485549\n",
      "364.16217960129853\n",
      "364.16220045663187\n",
      "364.1622072870239\n",
      "364.16220986609346\n",
      "364.16221080941705\n",
      "364.1622111509731\n",
      "364.16221128490724\n",
      "364.1622113465553\n",
      "364.16221137864704\n",
      "364.1622113957761\n",
      "364.1622114045183\n",
      "364.16221140866736\n",
      "364.16221141048294\n",
      "364.16221141122264\n",
      "364.1622114115114\n",
      "364.1622114116318\n",
      "364.1622114116847\n",
      "364.1622114117114\n",
      "364.1622114117268\n",
      "364.1622114117337\n",
      "364.16221141173503\n",
      "364.16221141173696\n",
      "774\n"
     ]
    }
   ],
   "source": [
    "new_J1 = run(sample_covariance, 0.0001)"
   ]
  },
  {
   "cell_type": "code",
   "execution_count": 224,
   "metadata": {},
   "outputs": [
    {
     "name": "stdout",
     "output_type": "stream",
     "text": [
      "50\n"
     ]
    }
   ],
   "source": [
    "new_J2 = run(sample_covariance, 0.001)"
   ]
  },
  {
   "cell_type": "code",
   "execution_count": 225,
   "metadata": {},
   "outputs": [
    {
     "name": "stdout",
     "output_type": "stream",
     "text": [
      "2500\n",
      "2500\n",
      "50\n"
     ]
    }
   ],
   "source": [
    "print(np.count_nonzero(np.linalg.inv(new_J)))\n",
    "print(np.count_nonzero(np.linalg.inv(new_J1)))\n",
    "print(np.count_nonzero(np.linalg.inv(new_J2)))"
   ]
  },
  {
   "cell_type": "code",
   "execution_count": 214,
   "metadata": {},
   "outputs": [
    {
     "name": "stdout",
     "output_type": "stream",
     "text": [
      "1132\n",
      "2500\n",
      "538\n",
      "1942\n",
      "50\n",
      "50\n"
     ]
    }
   ],
   "source": [
    "from sklearn.covariance import graphical_lasso\n",
    "sample_covariance = df.cov().to_numpy()\n",
    "S, J = graphical_lasso(sample_covariance, 0.00001, cov_init=None)\n",
    "print(np.count_nonzero(J)) # 1132\n",
    "print(np.count_nonzero(S)) # 2500\n",
    "S1, J1 = graphical_lasso(sample_covariance, 0.0001, cov_init=None)\n",
    "print(np.count_nonzero(J1)) # 538\n",
    "print(np.count_nonzero(S1)) # 1942\n",
    "S2, J2 = graphical_lasso(sample_covariance, 0.001, cov_init=None)\n",
    "print(np.count_nonzero(J2)) # 50\n",
    "print(np.count_nonzero(S2)) # 50"
   ]
  },
  {
   "cell_type": "code",
   "execution_count": null,
   "metadata": {},
   "outputs": [],
   "source": []
  }
 ],
 "metadata": {
  "interpreter": {
   "hash": "3a6df60bedf1c0dd760e71efb82970e84ef35f476934fd5ef0683dc3fe4c3487"
  },
  "kernelspec": {
   "display_name": "Python 3.8.8 ('base')",
   "language": "python",
   "name": "python3"
  },
  "language_info": {
   "codemirror_mode": {
    "name": "ipython",
    "version": 3
   },
   "file_extension": ".py",
   "mimetype": "text/x-python",
   "name": "python",
   "nbconvert_exporter": "python",
   "pygments_lexer": "ipython3",
   "version": "3.8.8"
  },
  "orig_nbformat": 4
 },
 "nbformat": 4,
 "nbformat_minor": 2
}
